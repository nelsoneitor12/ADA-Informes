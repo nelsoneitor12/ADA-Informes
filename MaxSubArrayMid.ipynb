{
  "nbformat": 4,
  "nbformat_minor": 0,
  "metadata": {
    "colab": {
      "name": "MaxSubArrayMid.ipynb",
      "provenance": [],
      "authorship_tag": "ABX9TyOBvN1kdq6EsZIBW505IU6m",
      "include_colab_link": true
    },
    "kernelspec": {
      "name": "python3",
      "display_name": "Python 3"
    },
    "language_info": {
      "name": "python"
    }
  },
  "cells": [
    {
      "cell_type": "markdown",
      "metadata": {
        "id": "view-in-github",
        "colab_type": "text"
      },
      "source": [
        "<a href=\"https://colab.research.google.com/github/nelsoneitor12/ADA-Informes/blob/main/MaxSubArrayMid.ipynb\" target=\"_parent\"><img src=\"https://colab.research.google.com/assets/colab-badge.svg\" alt=\"Open In Colab\"/></a>"
      ]
    },
    {
      "cell_type": "markdown",
      "source": [
        "# 1.Suma Maxima de SubArreglos\n",
        "\n",
        "Imaginemos que tenemos un programa que prediga con mucha exactitud el valor que tendra el Bitcoin en un rango de tiempo futuro, la idea es invertir lo menos posible para obtener las mayores Ganancias vendiendolo al mejor precio despues. Para esto tendriamos que obtener los 2 dias con menor y mayor valor, tal que la diferencia entre los valores de estos 2 dias sea la maxima entre todos los otros dias. Esto equivale a obtener un rango de dias tal que la suma de todos los valores del bitcoin en esos dias, sea la maxima que se pueda obtener. \n",
        "\n",
        ">![image.png](https://f.rpp-noticias.io/2022/01/24/1206740captura-de-pantalla-2022-01-24-095715jpg.jpg)\n",
        "\n",
        "Para problemas como esto tenemos el algoritmo de MaxSubArray, el cual dado un arreglo con una secuencia de elementos, este nos retorna la maxima suma consecutiva que se puede obtener a partir de una cantidad de estos elementos de forma contigua.\n",
        "\n",
        "\n"
      ],
      "metadata": {
        "id": "Z8JOCOG3ORzC"
      }
    },
    {
      "cell_type": "markdown",
      "source": [
        "#2.MaxSubArrayMid"
      ],
      "metadata": {
        "id": "1L4KPHVwm0Pk"
      }
    },
    {
      "cell_type": "code",
      "source": [
        "def maxSubArrayMid(arr, mid):\n",
        "  maxIzq=-1000000000\n",
        "  maxDer=-1000000000\n",
        "  low=0\n",
        "  high=0\n",
        "\n",
        "  sum=0\n",
        "  for i in range(mid,-1,-1):\n",
        "    sum=sum+arr[i]\n",
        "    if(sum>maxIzq):\n",
        "      maxIzq=sum\n",
        "      low=i\n",
        "  \n",
        "  sum=0\n",
        "  for i in range(mid,len(arr)):\n",
        "    sum=sum+arr[i]\n",
        "    if(sum>maxDer):\n",
        "      maxDer=sum\n",
        "      high=i\n",
        "      \n",
        "  return maxIzq+maxDer, low, high\n",
        "\n",
        "arr=[1,2,3,2,4,-4,6,-20,8,10]\n",
        "print(f\"entrada: {arr}\")\n",
        "mid=4\n",
        "print (f\"Salida: {maxSubArrayMid(arr, mid)}\")"
      ],
      "metadata": {
        "id": "2IDORArImz28",
        "colab": {
          "base_uri": "https://localhost:8080/"
        },
        "outputId": "a828085a-a0e1-4e87-cc68-47b8a102a1b9"
      },
      "execution_count": null,
      "outputs": [
        {
          "output_type": "stream",
          "name": "stdout",
          "text": [
            "entrada: [1, 2, 3, 2, 4, -4, 6, -20, 8, 10]\n",
            "Salida: (18, 0, 6)\n"
          ]
        }
      ]
    },
    {
      "cell_type": "markdown",
      "source": [
        "#3. MaxSubArray\n",
        "\n"
      ],
      "metadata": {
        "id": "nX8wSjAsW9ny"
      }
    },
    {
      "cell_type": "code",
      "source": [
        "def maxSubArray(arr):\n",
        "  if len(arr)==1: return arr, len(arr)\n",
        "\n",
        "  mid=len(arr)//2\n",
        "\n",
        "  maxIzq=maxSubArray(arr[:mid])\n",
        "  maxDer=maxSubArray(arr[mid:])\n",
        "  maxMid=maxSubArrayMid(arr, mid)\n",
        "  \n",
        "  return     \n",
        "  \n"
      ],
      "metadata": {
        "id": "j9dJXTnJXSs0"
      },
      "execution_count": null,
      "outputs": []
    },
    {
      "cell_type": "code",
      "source": [
        "arr1=[3,1003]\n",
        "arr3=[1,320]\n",
        "arr2=[4,5]\n",
        "print(max(arr1,arr2,arr3))"
      ],
      "metadata": {
        "colab": {
          "base_uri": "https://localhost:8080/"
        },
        "id": "jXzBz-Uy0Nhp",
        "outputId": "c4f48e82-03a3-4d23-bbfa-c6389ef03f2f"
      },
      "execution_count": null,
      "outputs": [
        {
          "output_type": "stream",
          "name": "stdout",
          "text": [
            "[4, 5]\n"
          ]
        }
      ]
    }
  ]
}