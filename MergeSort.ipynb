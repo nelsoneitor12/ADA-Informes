{
  "nbformat": 4,
  "nbformat_minor": 0,
  "metadata": {
    "colab": {
      "name": "MergeSort.ipynb",
      "provenance": [],
      "authorship_tag": "ABX9TyOHkuF0PlepeIl4gGnqP3j7",
      "include_colab_link": true
    },
    "kernelspec": {
      "name": "python3",
      "display_name": "Python 3"
    },
    "language_info": {
      "name": "python"
    }
  },
  "cells": [
    {
      "cell_type": "markdown",
      "metadata": {
        "id": "view-in-github",
        "colab_type": "text"
      },
      "source": [
        "<a href=\"https://colab.research.google.com/github/nelsoneitor12/ADA-Informes/blob/main/MergeSort.ipynb\" target=\"_parent\"><img src=\"https://colab.research.google.com/assets/colab-badge.svg\" alt=\"Open In Colab\"/></a>"
      ]
    },
    {
      "cell_type": "markdown",
      "source": [
        "# 1. Problema de ordenamiento\n",
        "\n",
        "Entrada:Arrgelo/lista de a forma [a1,...,an]\n",
        "\n",
        "Salida: Arreglo/lista con la misma secuencia de numeros pero ordenada de menor a mayor.\n",
        "![Image 2019-03-31 at 5.27.52 PM.webp](data:image/webp;base64,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)\n",
        "\n",
        "Para desarrollar la variedad de algoritmos que se dispone para resolver problemas de ordenamiento, se ha recurrido a tecnicas muy variadas con logicas quizas no muy obvias cuando se empieza a hacer ejercicios mentales de como podria funcionar un algoritmo de ordenamiento, pero con los que se obtienen resultados muy eficientes que nos ayuda a desarrollar codigos muchos mas optimizados. Uno de estos algoritmos, es el MergeSort, el que usa la tecnica de \"Divide y Venceras\", el cual una vez planteado es facil de ver sus virtudes, y como este nos brinda una muy buena eficiencia en terminos de tiempo."
      ],
      "metadata": {
        "id": "PuVdVE07YLbq"
      }
    },
    {
      "cell_type": "markdown",
      "source": [
        "# 2. Merge sort\n",
        "\n",
        "Una de las particularidades de este algoritmo, es que para su funcionamiento requiere de 2 funciones para cumplir su objetivo. Una es la funcion principal (la \"MergeSort\"), y la otra es el \"Merge\", la cual veremos mas adelante. Pero primero empezemos con el Merge Sort del cual veremos una implementacion en el siguiente codigo\n"
      ],
      "metadata": {
        "id": "3b_P7ifhgcYQ"
      }
    },
    {
      "cell_type": "markdown",
      "source": [
        "##2.1 Codigo"
      ],
      "metadata": {
        "id": "QNU_2sotpMhG"
      }
    },
    {
      "cell_type": "code",
      "execution_count": 45,
      "metadata": {
        "colab": {
          "base_uri": "https://localhost:8080/"
        },
        "id": "7y4n0kd6UM63",
        "outputId": "02c5229e-e8a6-4466-d9ae-4e5c81ae1bb3"
      },
      "outputs": [
        {
          "output_type": "stream",
          "name": "stdout",
          "text": [
            "Entrada: \n",
            " [8, 3, 2, 7, 1, 10]\n",
            "salida: \n",
            " [1, 2, 3, 7, 8, 10]\n",
            "recursiones:  11\n"
          ]
        }
      ],
      "source": [
        "def mergeSort(arr, com, com2, verbose):\n",
        "    if verbose==True: \n",
        "      if com[0]==0 :print(f\"Input: {arr}\\n\")\n",
        "    com[0]+=1\n",
        "    mid=(len(arr)+1)//2\n",
        "    if verbose==True: print(f\"Llamada numero {com}:\\n\")\n",
        "    if len(arr)<=1:\n",
        "       if verbose==True: print(f\"Descomposicion completa, *arreglo de largo 1*. ({arr})\\n\")\n",
        "       return arr\n",
        "    if verbose==True: print(f\"Subarreglo izquierdo: {arr[:mid]} / Subarreglo derecho {arr[mid:]}\\n\")\n",
        "    \n",
        "    izq=mergeSort(arr[:mid], com, com2, verbose)\n",
        "    der=mergeSort(arr[mid:], com, com2, verbose)\n",
        "    sort_arr=merge(izq, der, com2)\n",
        "    if verbose==True: \n",
        "      print(f\"Mezcla de subarreglo izquierdo: {izq} y derecho: {der}:\\n*{sort_arr}*\\n\")\n",
        "      if len(sort_arr)==(com[0]//2)+1: print(f\"already_Sort\\noutPut: {sort_arr}\")\n",
        "    return sort_arr \n",
        "    \n",
        "def merge(izq, der, com2):\n",
        "    aux = []\n",
        "    i,j = 0,0\n",
        "\n",
        "    while(i < len(izq) and j < len(der)):\n",
        "        com2[0]+=1\n",
        "        if (izq[i] < der[j]):\n",
        "            aux.append(izq[i])\n",
        "            i += 1\n",
        "        else:\n",
        "            aux.append(der[j])\n",
        "            j += 1\n",
        "\n",
        "    for k in range(i,len(izq)):\n",
        "      aux.append(izq[k])\n",
        "    for k in range(j,len(der)):\n",
        "      aux.append(der[k])\n",
        "   \n",
        "    return aux\n",
        "\n",
        "a=[8,3,2,7,1,10]\n",
        "comp=[0]\n",
        "comp2=[0]\n",
        "print(\"Entrada: \\n\", a)\n",
        "a=mergeSort(a, comp, comp2, verbose=False)\n",
        "print(\"salida: \\n\", a)\n",
        "print(\"recursiones: \", comp[0])"
      ]
    },
    {
      "cell_type": "markdown",
      "source": [
        "## 2.2. Descripción del algoritmo\n",
        "\n",
        "El algoritmo recibe como entrada una lista (o arreglo) $arr$ de tamaño n el cual queremos ordenar.\n",
        "\n",
        "1. En cada llamada a la funcion el arreglo se divide en 2 sub arreglos, uno que ira desde el primer elemento del arreglo completo hasta la mitad del mismo. Y otro que ira desde la mitad+1 del arreglo completo hasta el ultimo elemento del mismo.(Para una visualizacion mas clara, al primero lo identificaremos como el subarreglo izquierdo y al segundo como el derecho). En el codigo esta division se hacen en las lineas \n",
        "```\n",
        "izq=mergeSort(arr[:mid])\n",
        "der=mergeSort(arr[mid:])\n",
        "```\n",
        ".\n",
        "2. La funcion se ira llamando asi misma consecutivamente para que al igual que con el arreglo original, los subarreglos se divididan en otros 2 subarreglos, primero con los subarreglos izquierdos, y despues con los subarreglos derechos. Esto se ira repitiendo hasta que uno de los subarreglos quede de tamaño 1, este es el caso base de nuestra funcion recursiva y cuando esto suceda se retornara el mismo subarreglo de tamaño 1.\n",
        "\n",
        "3. Cuando uno de los sub arreglos se divida en otros 2 de tamaño 1, estos 2 seran traspasados a la funcion \"Merge\" la cual se encargara de ordenarlos, mezclarlos y retornarlos en un arreglo del mismo tamaño del arreglo que se obtuvieron estos 2. De esta forma cada llamada de la funcion \"MergeSort\" ira retornando un arreglo izquierdo y derecho ordenados, los cuales seran traspasados a la funcion Merge para ser mezclados, ordenados y retornados al llamado anterior. Esto se ira repitiendo hasta llegar al primer llamado, el cual obtendra por medio de la funcion merge un arreglo del mismo tamaño y elementos que el original, pero ordenado. En el codigo la funcion merge se llama en la siguiente linea: \n",
        "```\n",
        "sort_arr=merge(izq, der, com2)\n",
        "return sort_arr\n",
        "```\n",
        ".\n",
        "\n",
        "Cabe destacar que independiente de si el arreglo esta mas o menos ordenados, incluso si esta totalemte ordenado. El algoritmo siempre hara la misma cantidad de recursiones, la cual solo varía segun el tamaño del arreglo a ordenar.\n",
        "\n",
        "![image](https://dotnettutorials.net/wp-content/uploads/2019/09/c-users-pranaya-pictures-merge-sort-in-c-png-768x740.png)"
      ],
      "metadata": {
        "id": "e6R-E8VyYOLD"
      }
    },
    {
      "cell_type": "markdown",
      "source": [
        "##2.3. Ejemplo:\n",
        "\n",
        "Usemos de ejemplo el arreglo [5,1,8,2]:\n",
        "\n",
        "En la primera llamada se divide en los siguientes 2 subarreglos:\n",
        "\n",
        "**izquierdo=[5,1] derecho=[8,2]**\n",
        "\n",
        "Despues en la segunda llamada el izquierdo se dividara en:\n",
        "\n",
        "**izquierdo=[5] derecho=[1]**\n",
        "\n",
        "En la 3era y 4ta llamada el MergeSort identificara que los subarreglos son de tamaño 1, por lo que los retornara tal como los recibio. \n",
        "Una vez retornados estamos devuelta en la segunda llamada, la cual hara una llamada a la funcion \"Merge\" a la que se le traspasara los subarreglos **izquierdo=[5]** y **derecho=[1]**, y esta los mezclara retornando el **arreglo [1,5]** el cual a su vez sera retornadodo a la primera llamada como el subarreglo izquierdo.\n",
        "\n",
        "En la 5ta llamada el subarreglo derecho del original **([8,2])**, se dividira en los subarreglos: \n",
        "**izquierdo=[8]** y **derecho=[2]**.\n",
        "\n",
        "En la 6ta y 7ma llamada nuevamente el MergeSort identificara que los subarreglos son de tamaño 1, por lo que los retornara tal como los recibio. \n",
        "Una vez retornados estamos devuelta en la 5ta llamada, la cual hara una llamada a la funcion \"Merge\" a la que se le traspasara los subarreglos **izquierdo=[8]** y **derecho=[2]**, y esta los mezclara retornando el **arreglo [2,8]** el cual a su vez sera retornadodo a la primera llamada como el subarreglo derecho.\n",
        "\n",
        "Ahora en la primera llamada despues de todas las recursiones, habiendo ya obtenido los subarreglos izquierdo y derecho ordenados, esta los traspasara a la funcion merge **(*izquierdo=[1,5] y derecho=[2,8]*)**, la cual los mezclara y ordenara retornando el arreglo **[1,2,5,8]**, el cual podemos observar facilmente que es el arreglo original pero ordenado. \n",
        "\n",
        "Con esto el algoritmo ya habra ordenado nuestro arreglo.\n",
        "\n"
      ],
      "metadata": {
        "id": "oLir0XA7H_iG"
      }
    },
    {
      "cell_type": "markdown",
      "source": [
        "## 2.4. Ejecución del algoritmo paso a paso (`verbose=True`)\n",
        "\n",
        "Asignando la variable `verbose=True`, veremos detalladamente lo que ocurre en cada llamada de mergeSort"
      ],
      "metadata": {
        "id": "i-k3Zpt1U4cQ"
      }
    },
    {
      "cell_type": "code",
      "source": [
        "import random\n",
        "c1=[0]\n",
        "c2=[0]\n",
        "arr = random.sample(range(1, 100), 6)\n",
        "a= mergeSort(arr,c1,c2,verbose=True)\n"
      ],
      "metadata": {
        "colab": {
          "base_uri": "https://localhost:8080/"
        },
        "id": "wa3s5pheYlCp",
        "outputId": "3901b8b0-8a66-46bb-9e58-de50ab7c16f0"
      },
      "execution_count": 7,
      "outputs": [
        {
          "output_type": "stream",
          "name": "stdout",
          "text": [
            "Input: [33, 64, 50, 78, 53, 22]\n",
            "\n",
            "Llamada numero [1]:\n",
            "\n",
            "Subarreglo izquierdo: [33, 64, 50] / Subarreglo derecho [78, 53, 22]\n",
            "\n",
            "Llamada numero [2]:\n",
            "\n",
            "Subarreglo izquierdo: [33, 64] / Subarreglo derecho [50]\n",
            "\n",
            "Llamada numero [3]:\n",
            "\n",
            "Subarreglo izquierdo: [33] / Subarreglo derecho [64]\n",
            "\n",
            "Llamada numero [4]:\n",
            "\n",
            "Descomposicion completa, *arreglo de largo 1*. ([33])\n",
            "\n",
            "Llamada numero [5]:\n",
            "\n",
            "Descomposicion completa, *arreglo de largo 1*. ([64])\n",
            "\n",
            "Mezcla de subarreglo izquierdo: [33] y derecho: [64]:\n",
            "*[33, 64]*\n",
            "\n",
            "Llamada numero [6]:\n",
            "\n",
            "Descomposicion completa, *arreglo de largo 1*. ([50])\n",
            "\n",
            "Mezcla de subarreglo izquierdo: [33, 64] y derecho: [50]:\n",
            "*[33, 50, 64]*\n",
            "\n",
            "Llamada numero [7]:\n",
            "\n",
            "Subarreglo izquierdo: [78, 53] / Subarreglo derecho [22]\n",
            "\n",
            "Llamada numero [8]:\n",
            "\n",
            "Subarreglo izquierdo: [78] / Subarreglo derecho [53]\n",
            "\n",
            "Llamada numero [9]:\n",
            "\n",
            "Descomposicion completa, *arreglo de largo 1*. ([78])\n",
            "\n",
            "Llamada numero [10]:\n",
            "\n",
            "Descomposicion completa, *arreglo de largo 1*. ([53])\n",
            "\n",
            "Mezcla de subarreglo izquierdo: [78] y derecho: [53]:\n",
            "*[53, 78]*\n",
            "\n",
            "Llamada numero [11]:\n",
            "\n",
            "Descomposicion completa, *arreglo de largo 1*. ([22])\n",
            "\n",
            "Mezcla de subarreglo izquierdo: [53, 78] y derecho: [22]:\n",
            "*[22, 53, 78]*\n",
            "\n",
            "Mezcla de subarreglo izquierdo: [33, 50, 64] y derecho: [22, 53, 78]:\n",
            "*[22, 33, 50, 53, 64, 78]*\n",
            "\n",
            "already_Sort\n",
            "outPut: [22, 33, 50, 53, 64, 78]\n"
          ]
        }
      ]
    },
    {
      "cell_type": "markdown",
      "source": [
        ""
      ],
      "metadata": {
        "id": "FZO2NrqPaSdt"
      }
    },
    {
      "cell_type": "markdown",
      "source": [
        "# 3. Funcion Merge\n",
        "\n",
        "Ya visto como funciona el MergeSort, ahora solo queda ver como funciona la funcion Merge. Ya que esta es la que se encarga de ordenar los distintos subarreglos que se les traspasa, es fundamental entender como esta trabaja para ordenarlos.\n",
        "\n",
        "Veremos una implementacion de la funcion en el siguiente codigo.\n"
      ],
      "metadata": {
        "id": "Zr7JCI5VbAYz"
      }
    },
    {
      "cell_type": "markdown",
      "source": [
        "##3.1 Codigo"
      ],
      "metadata": {
        "id": "SyvtOVEib-4K"
      }
    },
    {
      "cell_type": "code",
      "source": [
        "def merge(izq, der, com2):\n",
        "    aux = []\n",
        "    i,j = 0,0\n",
        "    print(f\"Input\\n Izq={izq}///Der={der}\\n\\n\")\n",
        "    while(i < len(izq) and j < len(der)):\n",
        "        com2[0]+=1\n",
        "        print(f\"Iteracion nro {com2[0]}:\\n\")\n",
        "        print(f\"i={i} j={j}\\n\")\n",
        "        if (izq[i] < der[j]):\n",
        "            aux.append(izq[i])\n",
        "            print(f\"izq[{i}]={izq[i]}<der[{j}]={der[j]}\\n i++({i+1})\\n\")\n",
        "            print(f\"arreglo auxiliar= {aux}\\n\\n\")\n",
        "            i += 1\n",
        "        else:\n",
        "            aux.append(der[j])\n",
        "            print(f\"der[{j}]={der[j]}<izq[{i}]={izq[i]}\\n j++({j+1})\\n\")\n",
        "            print(f\"arreglo auxiliar= {aux}\\n\\n\")\n",
        "            j += 1\n",
        "    print(\"fin de iteracion\")\n",
        "    for k in range(i,len(izq)):\n",
        "      if k==i: print(f\"Subarreglo con elementos sobrantes= izq{izq[k:]}\\n\\n Rellenando con los elementos faltantes:\")\n",
        "      aux.append(izq[k])\n",
        "      print(f\"aux={aux}\")\n",
        "    for k in range(j,len(der)):\n",
        "      if k==j: print(f\"Subarreglo con elementos sobrantes= der{der[k:]}\\n\\n Rellenando con los elementos faltantes:\")\n",
        "      aux.append(der[k])\n",
        "      print(f\"aux={aux}\")\n",
        "    print(f\"all_sorted\\nOutput={aux}\")\n",
        "    return aux"
      ],
      "metadata": {
        "id": "SROh7_Rib7Vi"
      },
      "execution_count": 36,
      "outputs": []
    },
    {
      "cell_type": "markdown",
      "source": [
        "## 3.2. Descripción del algoritmo\n",
        "El algoritmo recibe como entrada 2 arreglos (los subarreglos izquierdo y derecho), los cuales la funcion mezclara ordenandolas de menor a mayor en un arreglo auxiliar que se creara en la misma funcion.\n",
        "\n",
        "1. Se inicia una iteracion con un indice i para el arreglo izquierdo y uno j para el arreglo derecho, con la condicion de que se itere hasta que uno de estos alcanze el tamaño de su arreglo correspondiente.\n",
        "\n",
        "2. En cada iteracion se comparara los subarreglos izq[i] y der[j]. El que contenga el elemento menor se agregara al arreglo auxiliar y su indice se aumentara en 1.\n",
        "\n",
        "3. La accion anterior se repetira hasta que uno de los subarreglos se termine de agregar por completo al arreglo auxiliar, y cuando esto ocurra, se iniciara otra iteracion especifica para terminar de agregar los elementos faltantes del otro arreglo. Estos al ya venir ordenados se guardaran en el mismo orden como se encuentroban por defecto, por lo que no es necesario realizar ninguna otra operacion ademas de almacenarlos en el arreglo auxiliar.\n",
        "\n",
        "![image.png](data:image/png;base64,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)\n"
      ],
      "metadata": {
        "id": "ywU7SQ0Efv9h"
      }
    },
    {
      "cell_type": "markdown",
      "source": [
        "##3.3. Ejemplo:\n",
        "\n",
        "Usaremos los subarreglos **[5,10]** y **[7,9]** de ejemplo:\n",
        "\n",
        "En la primera iteracion con i=j=0, se compara izq[i]=5 con der[j]=7, ya que izq[0] es menor, este se agrega al auxiliar y el indice e aumenta en 1 quedando i=1 y j=0, con el arreglo **aux=[5].\n",
        "\n",
        "En la segunda iteracion, **der[0]=7** es menor que **izq[1]=10**, por lo que esta vez der[j] es el que se agrega al arreglo auxiliar y su indice se aumenta en uno, quedando i=j=1 y **aux=[5,7]**.\n",
        "\n",
        "En la tercera iteracion, nuevamente der[j] es mayor a izq[i], teniendo de valores los elementos 9 y 10 respectivamente, por lo que der[j] se agrega al arreglo auxiliar quedando **aux=[5,7,9]**, y el indice j aumentandose en 1. Pero como j ahora es del valor del tamaño del arreglo al que corresponde **(der)**, la iteracion se rompe.\n",
        "\n",
        "Ahora el ultimo paso es agregar los elementos sobrantes del arreglo izq, que en este caso es solo un elemento por lo que habra una sola iteracion para ello (y como vimos anteriormente niunguna comparacion), con lo que obtendriamos finalmente el arreglo **aux=[5,7,9,10]**, que es el arreglo que nos retornara la funcion."
      ],
      "metadata": {
        "id": "lAV2k_jsAyjm"
      }
    },
    {
      "cell_type": "markdown",
      "source": [
        "## 2.4. Ejecución del algoritmo paso a paso (`verbose=True`)\n",
        "\n",
        "Asignando la variable `verbose=True`, ahora veremos paso a paso como funciona la funcion merge:"
      ],
      "metadata": {
        "id": "toxkc_gOE930"
      }
    },
    {
      "cell_type": "code",
      "source": [
        "izq = [5,7,9,10,20]\n",
        "der = [8,11,18,30,31]\n",
        "com2=[0]\n",
        "a= merge(izq, der, com2)"
      ],
      "metadata": {
        "colab": {
          "base_uri": "https://localhost:8080/"
        },
        "id": "JI4A8AVcE-Gd",
        "outputId": "807c3bd8-0626-4fdb-aa5c-d856f845c64f"
      },
      "execution_count": 37,
      "outputs": [
        {
          "output_type": "stream",
          "name": "stdout",
          "text": [
            "Input\n",
            " Izq=[5, 7, 9, 10, 20]///Der=[8, 11, 18, 30, 31]\n",
            "\n",
            "\n",
            "Iteracion nro 1:\n",
            "\n",
            "i=0 j=0\n",
            "\n",
            "izq[0]=5<der[0]=8\n",
            " i++(1)\n",
            "\n",
            "arreglo auxiliar= [5]\n",
            "\n",
            "\n",
            "Iteracion nro 2:\n",
            "\n",
            "i=1 j=0\n",
            "\n",
            "izq[1]=7<der[0]=8\n",
            " i++(2)\n",
            "\n",
            "arreglo auxiliar= [5, 7]\n",
            "\n",
            "\n",
            "Iteracion nro 3:\n",
            "\n",
            "i=2 j=0\n",
            "\n",
            "der[0]=8<izq[2]=9\n",
            " j++(1)\n",
            "\n",
            "arreglo auxiliar= [5, 7, 8]\n",
            "\n",
            "\n",
            "Iteracion nro 4:\n",
            "\n",
            "i=2 j=1\n",
            "\n",
            "izq[2]=9<der[1]=11\n",
            " i++(3)\n",
            "\n",
            "arreglo auxiliar= [5, 7, 8, 9]\n",
            "\n",
            "\n",
            "Iteracion nro 5:\n",
            "\n",
            "i=3 j=1\n",
            "\n",
            "izq[3]=10<der[1]=11\n",
            " i++(4)\n",
            "\n",
            "arreglo auxiliar= [5, 7, 8, 9, 10]\n",
            "\n",
            "\n",
            "Iteracion nro 6:\n",
            "\n",
            "i=4 j=1\n",
            "\n",
            "der[1]=11<izq[4]=20\n",
            " j++(2)\n",
            "\n",
            "arreglo auxiliar= [5, 7, 8, 9, 10, 11]\n",
            "\n",
            "\n",
            "Iteracion nro 7:\n",
            "\n",
            "i=4 j=2\n",
            "\n",
            "der[2]=18<izq[4]=20\n",
            " j++(3)\n",
            "\n",
            "arreglo auxiliar= [5, 7, 8, 9, 10, 11, 18]\n",
            "\n",
            "\n",
            "Iteracion nro 8:\n",
            "\n",
            "i=4 j=3\n",
            "\n",
            "izq[4]=20<der[3]=30\n",
            " i++(5)\n",
            "\n",
            "arreglo auxiliar= [5, 7, 8, 9, 10, 11, 18, 20]\n",
            "\n",
            "\n",
            "fin de iteracion\n",
            "Subarreglo con elementos sobrantes= der[30, 31]\n",
            "\n",
            " Rellenando con los elementos faltantes:\n",
            "aux=[5, 7, 8, 9, 10, 11, 18, 20, 30]\n",
            "aux=[5, 7, 8, 9, 10, 11, 18, 20, 30, 31]\n",
            "all_sorted\n",
            "Output=[5, 7, 8, 9, 10, 11, 18, 20, 30, 31]\n"
          ]
        }
      ]
    },
    {
      "cell_type": "markdown",
      "source": [
        "#4. Correctitud\n",
        "\n",
        "Ahora veremos la correctitud del **\"MergeSort\"** y de la funcion **\"Merge\"**."
      ],
      "metadata": {
        "id": "nq5TRiKlNGUY"
      }
    },
    {
      "cell_type": "markdown",
      "source": [
        "##4.1 Correctitud MergeSort\n",
        "\n",
        "### **Teorema (Correctitud).**\n",
        "\n",
        "El algoritmo MergeSort genera un arreglo: $[a_1',a_2',...,a_n']$, con los mismos elementos del arreglo de entrada ordenados de menor a mayor, es decir, $a_1'\\leq a_2' \\leq... \\leq a_n'$.\n",
        "\n",
        "\n",
        "## Prueba del Teorema \n",
        "\n",
        "**Inicialización**\n",
        "\n",
        ">En la primera llamada cuando $n=1$, MergeSort retorna el único elemento, por lo que se cumple la propiedad. \n",
        "\n",
        "**Mantención**\n",
        "\n",
        ">Para $n$ elementos, el algoritmo divide el arreglo en dos subarreglos de tamaños $Izq=\\lfloor \\frac{n}{2}\\rfloor$ y $Der=\\lceil \\frac{n}{2}\\rceil$ y estos son ordenados con el mismo algoritmo mergesor, y como el tamaño de los subarreglos es menor a $n$, con la induccion se asume que la propiedad es correcta. \n",
        "\n",
        "**Finalizacion**\n",
        "\n",
        "Finalmente, los dos subarreglos se combinan con la funcion merge. Y según el Teorema, el Merge nos retorna un arreglo con los mismos elementos de los subarreglos pero ordenados, por lo tanto **MergeSort es correcto**."
      ],
      "metadata": {
        "id": "UuaCPNarNvQq"
      }
    },
    {
      "cell_type": "markdown",
      "source": [
        "##4.1 Correctitud Funcion Merge\n",
        "\n",
        "Usando los parametros del siguiente ejemplo de una funcion Merge(A,p,q,r)\n",
        "\n",
        "![image](https://prodavmoodle.ucv.cl/pluginfile.php/2081308/mod_forum/post/734728/image.png)\n",
        "\n",
        "Se puede definir la siguiente propiedad invariante de bucle:\n",
        "\n",
        ">Al comienzo de cada iteracion k, el subarreglo A[p,..,k-1] contiene los k-p elementos mas pequeños de los arreglos L[0,..,n] y R[0,..,m] ordenados de menor a mayor. Mientras los elementos en L[i] y R[j] , son los mas pequeños de sus respectivos arreglos que aun no se han copiado a A.\n",
        "\n",
        "## Prueba del Teorema \n",
        "\n",
        "**Inicialización**\n",
        "\n",
        "Usando esta propiedad al comenzar en la primera iteracion k-p=0, esto significa que A es un arreglo vacio y un arreglo vacio siempre esta ordenado, por otra parte L[0] y R[0] son los menores elementos de sus respectivos arreglos y estos aun no se han copiado a A.\n",
        "\n",
        "**Mantención**\n",
        "\n",
        "Usando de ejemplo una segunda iteracion donde k-p=1 ahora en A se encuentra el elemento menor entre el L[0] y R[0] de la iteracion anterior. en el caso de haber sido L, i ahora vale 1. Y se compararia L[1] con R[0], estos nuevamente son los menores elementos de sus respectivos arreglos que aun no se copian a A, y A al contener un solo elemento este esta ordenad, y es facil ver que esta condicion se seguira cumpliendo a medida que se siga iterando.\n",
        "\n",
        "**Finalizacion**\n",
        "\n",
        "Cuando k=r+1, tendremos que A[p,..,k-1] es igual a A[p,..,r], Este seria el arreglo completo con todos los elementos de los 2 arreglos L y R, y ordenados de menor a mayor, por lo que se confirma la correctitud de la funcion.\n",
        "\n"
      ],
      "metadata": {
        "id": "JIpelWopSdgw"
      }
    },
    {
      "cell_type": "markdown",
      "source": [
        "#5. Experimenos\n",
        "\n"
      ],
      "metadata": {
        "id": "zwSVyCSeYap5"
      }
    },
    {
      "cell_type": "markdown",
      "source": [
        "##5.1 Comparacion entre el mejor y el peor caso\n",
        "\n",
        "Ya analizado el tiempo de ejecucion del algoritmo pudimos observar que la complejidad temporal del algoritmo en el mejor y peor caso es la misma. \n",
        "Y para darnos una imagen mas clara de esto vamos a graficar estos 2 casos, ademas de un caso promedio."
      ],
      "metadata": {
        "id": "CqIFFNJZYf4O"
      }
    },
    {
      "cell_type": "code",
      "source": [
        "import matplotlib.pyplot as plt\n",
        "import math\n",
        "\n",
        "x=[n for n in range(5,101)] \n",
        "y=[];\n",
        "y1=[(n*math.log2(n)) for n in range(5,101)]\n",
        "c1, c2=[0],[0]\n",
        "c3=0\n",
        "for n in range(5,101):\n",
        "  a = random.sample(range(1, 101), n)\n",
        "  a= mergeSort(arr, c1, c2, verbose=False)\n",
        "  c3=c1+c2\n",
        "  y.append(c3)\n",
        "  \n",
        "\n",
        "plt.plot(x,y)\n",
        "plt.plot(x,y1)\n",
        "plt.legend([\"caso normal\", \"peor caso\"])\n",
        "\n",
        "plt.xlabel('n')\n",
        "plt.ylabel('numero de operaciones')\n",
        "plt.show()"
      ],
      "metadata": {
        "colab": {
          "base_uri": "https://localhost:8080/",
          "height": 279
        },
        "id": "lC7jvhVUa_KE",
        "outputId": "cefb1a4a-6d47-4c10-afb4-f19f5c28c719"
      },
      "execution_count": 74,
      "outputs": [
        {
          "output_type": "display_data",
          "data": {
            "text/plain": [
              "<Figure size 432x288 with 1 Axes>"
            ],
            "image/png": "[encoded data removed]"
          },
          "metadata": {
            "needs_background": "light"
          }
        }
      ]
    }
  ]
}